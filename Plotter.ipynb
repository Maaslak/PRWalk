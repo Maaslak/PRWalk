{
 "cells": [
  {
   "cell_type": "code",
   "execution_count": 1,
   "metadata": {},
   "outputs": [],
   "source": [
    "import matplotlib.pyplot as plt\n",
    "import numpy as np\n",
    "import csv\n",
    "from enum import Enum\n",
    "import re\n",
    "from operator import itemgetter, attrgetter, methodcaller"
   ]
  },
  {
   "cell_type": "code",
   "execution_count": 33,
   "metadata": {},
   "outputs": [],
   "source": [
    "class ReadState(Enum):\n",
    "    PRESIX = 1\n",
    "    SIX = 2\n",
    "    PRETHREE = 3\n",
    "    THREE = 4\n",
    "    TIME = 5\n",
    "int_columns = ('Hotspot Samples', 'Line', 'DC accesses', 'CPU clocks', 'Ret inst', 'DC misses',\n",
    "               'DTLB L1M L2H', 'DTLB L1M L2M', 'DRAM accesses', 'L3 misses', 'Timer')\n",
    "float_columns = ('% of Hotspot Samples',)\n",
    "str_columns = ('Address', 'Source Code', 'Code Bytes')\n",
    "\n",
    "def parseVal(val, label):\n",
    "    global int_columns\n",
    "    if label in int_columns:\n",
    "        return 0 if len(val) == 0 else int(float(val))\n",
    "    if label in float_columns:\n",
    "        return 0.0 if len(val) == 0 else float(val)\n",
    "    if label in str_columns:\n",
    "        return val\n",
    "    raise Exception('Unknown column type for column : ' + label + ', ' + val)\n",
    "\n",
    "def readData(filename, measurements, measurementsLabels, skip_time = False):\n",
    "    dataLabels = []\n",
    "    with open(filename) as csvfile:\n",
    "        datareader = csv.reader(csvfile, delimiter=',') \n",
    "        rs = ReadState(ReadState.PRESIX)\n",
    "        measurement = {}\n",
    "        measurementLabel = ''\n",
    "        ittime = 0\n",
    "        for row in datareader:\n",
    "            #print(rs)\n",
    "            if(rs == ReadState.PRESIX):\n",
    "                if(re.match('[0-9]+', row[0])):\n",
    "                    measurementLabel = (row[0], row[1], row[2])\n",
    "                    measurementsLabels.append(\"%s %s %s\" % measurementLabel)\n",
    "                else:\n",
    "                    if not dataLabels:\n",
    "                        dataLabels = row\n",
    "                    rs = ReadState.SIX\n",
    "                    for label in dataLabels:\n",
    "                        measurement[label] = []\n",
    "                    continue\n",
    "            if(rs == ReadState.SIX):\n",
    "                if(re.match('[0-9]+', row[0])):\n",
    "                    for i, label in enumerate(dataLabels):\n",
    "                        measurement[label].append(parseVal(row[i], dataLabels[i]))\n",
    "                else:\n",
    "                    rs = ReadState.PRETHREE\n",
    "                    if \"%s %s %s\" % measurementLabel not in measurements:\n",
    "                        measurements [\"%s %s %s\" % measurementLabel] = {}\n",
    "                    measurements[\"%s %s %s\" % measurementLabel] = {**measurement.copy(), **measurements[\"%s %s %s\" % measurementLabel]}\n",
    "                    for label in dataLabels:\n",
    "                        measurement[label] = []\n",
    "                    measurementLabel = measurementLabel[0:2] + (row[2],)\n",
    "                    measurementsLabels.append(\"%s %s %s\" % measurementLabel)\n",
    "                    continue\n",
    "            if(rs == ReadState.PRETHREE):\n",
    "                #if(re.match('[a-zA-Z]+', row[0])):\n",
    "                #print(row)\n",
    "                rs = ReadState.THREE            \n",
    "                continue\n",
    "            if(rs == ReadState.THREE):\n",
    "                if(re.match('[0-9]+', row[0])):\n",
    "                    for i, label in enumerate(dataLabels):\n",
    "                        measurement[label].append(parseVal(row[i], dataLabels[i]))\n",
    "                else:\n",
    "                    if skip_time:\n",
    "                        rs = ReadState.PRESIX\n",
    "                    else:\n",
    "                        rs = ReadState.TIME\n",
    "                    if \"%s %s %s\" % measurementLabel not in measurements:\n",
    "                        measurements [\"%s %s %s\" % measurementLabel] = {}\n",
    "                    measurements[\"%s %s %s\" % measurementLabel] = {**measurement.copy(), **measurements[\"%s %s %s\" % measurementLabel]}\n",
    "                    for label in dataLabels:\n",
    "                        measurement[label] = []\n",
    "                    ittime = 0\n",
    "            if(rs == ReadState.TIME):\n",
    "                if(ittime == 1):\n",
    "                    measurements[measurementsLabels[-1]]['time'] = float(row[2].split()[3])\n",
    "                if(ittime == 2):\n",
    "                    measurements[measurementsLabels[-2]]['time'] = float(row[2].split()[3])\n",
    "                    rs = ReadState.PRESIX\n",
    "                ittime += 1\n",
    "    return (measurements, measurementsLabels)        \n",
    "    #print(measurementsLabels)\n",
    "    #print(measurements['512 64 3']['Line'])\n",
    "    #print(measurements['512 64 3']['Hotspot Samples'])\n",
    "    \n",
    "        #print(', '.join(row))"
   ]
  },
  {
   "cell_type": "code",
   "execution_count": 34,
   "metadata": {},
   "outputs": [
    {
     "name": "stdout",
     "output_type": "stream",
     "text": [
      "256 64 6\n",
      "0\n",
      "1024 64 3\n",
      "0\n",
      "1024 16 6\n",
      "157\n",
      "512 64 3\n",
      "122\n",
      "512 16 6\n",
      "2\n",
      "512 128 3\n",
      "128\n",
      "1024 64 6\n",
      "19\n",
      "512 64 6\n",
      "3\n",
      "512 128 6\n",
      "0\n",
      "128 16 3\n",
      "0\n",
      "256 16 6\n",
      "0\n",
      "1024 128 3\n",
      "81747\n",
      "1024 16 3\n",
      "81791\n",
      "128 16 6\n",
      "0\n",
      "256 16 3\n",
      "0\n",
      "512 16 3\n",
      "130\n",
      "256 64 3\n",
      "1\n",
      "1024 128 6\n",
      "14\n",
      "86 0x12a18b3 matrix_r[i][j] += matrix_a[i][k] * matrix_b[k][j];\n"
     ]
    },
    {
     "name": "stderr",
     "output_type": "stream",
     "text": [
      "/usr/local/lib/python3.5/dist-packages/numpy/core/fromnumeric.py:2957: RuntimeWarning: Mean of empty slice.\n",
      "  out=out, **kwargs)\n",
      "/usr/local/lib/python3.5/dist-packages/numpy/core/_methods.py:80: RuntimeWarning: invalid value encountered in double_scalars\n",
      "  ret = ret.dtype.type(ret / rcount)\n"
     ]
    },
    {
     "ename": "KeyError",
     "evalue": "'DTLB L1M L2M'",
     "output_type": "error",
     "traceback": [
      "\u001b[0;31m---------------------------------------------------------------------------\u001b[0m",
      "\u001b[0;31mKeyError\u001b[0m                                  Traceback (most recent call last)",
      "\u001b[0;32m<ipython-input-34-49834b78beef>\u001b[0m in \u001b[0;36m<module>\u001b[0;34m()\u001b[0m\n\u001b[1;32m     28\u001b[0m \u001b[0;32mfor\u001b[0m \u001b[0mkey\u001b[0m \u001b[0;32min\u001b[0m \u001b[0msums\u001b[0m\u001b[0;34m:\u001b[0m\u001b[0;34m\u001b[0m\u001b[0m\n\u001b[1;32m     29\u001b[0m     \u001b[0mprint\u001b[0m\u001b[0;34m(\u001b[0m\u001b[0mkey\u001b[0m\u001b[0;34m)\u001b[0m\u001b[0;34m\u001b[0m\u001b[0m\n\u001b[0;32m---> 30\u001b[0;31m     \u001b[0mprint\u001b[0m\u001b[0;34m(\u001b[0m\u001b[0msums\u001b[0m\u001b[0;34m[\u001b[0m\u001b[0mkey\u001b[0m\u001b[0;34m]\u001b[0m\u001b[0;34m[\u001b[0m\u001b[0;34m'DTLB L1M L2M'\u001b[0m\u001b[0;34m]\u001b[0m\u001b[0;34m)\u001b[0m\u001b[0;34m\u001b[0m\u001b[0m\n\u001b[0m\u001b[1;32m     31\u001b[0m \u001b[0;31m#print(sums['1024 128 6'])\u001b[0m\u001b[0;34m\u001b[0m\u001b[0;34m\u001b[0m\u001b[0m\n\u001b[1;32m     32\u001b[0m \u001b[0;31m#print([key for key in parallel])\u001b[0m\u001b[0;34m\u001b[0m\u001b[0;34m\u001b[0m\u001b[0m\n",
      "\u001b[0;31mKeyError\u001b[0m: 'DTLB L1M L2M'"
     ]
    }
   ],
   "source": [
    "#measurements[measurementsLabels[0]][\"Line\"]\n",
    "#print([key for key in measurements[measurementsLabels[0]]])\n",
    "def sumMeasurements(measurements, measurementsLabels):\n",
    "    sumMeasurements = {}\n",
    "    for measurement_key, measurement in measurements.items():\n",
    "        sumMeasurement = {}\n",
    "        for key in measurementsLabels:\n",
    "            if key in measurement:\n",
    "                if key == '% of Hotspot Samples':\n",
    "                    sumMeasurement[key] = np.mean(measurement[key])\n",
    "                else:\n",
    "                    sumMeasurement[key] = sum(measurement[key])\n",
    "        sumMeasurements[measurement_key] = sumMeasurement.copy()\n",
    "    return sumMeasurements\n",
    "\n",
    "parallel_files = (('Seq - Arkusz1.csv', False), ('Seq - Arkusz2.csv', True), ('Seq - Arkusz3.csv', True))\n",
    "parallel = {}\n",
    "parallelLabels = []\n",
    "for file in parallel_files:\n",
    "    readData(file[0], parallel, parallelLabels, file[1])\n",
    "#print(parallelLabels)\n",
    "temp = 6\n",
    "#print(parallelLabels[temp])\n",
    "#print(parallel[parallelLabels[temp]])\n",
    "sums = sumMeasurements(parallel, int_columns + float_columns)\n",
    "#print(sums['128 16 6'])\n",
    "#print(parallel['128 16 6'])\n",
    "for key in sums:\n",
    "    print(key)\n",
    "    print(sums[key]['DTLB L1M L2M'])\n",
    "#print(sums['1024 128 6'])\n",
    "#print([key for key in parallel])\n",
    "#print([key for key in parallel['1024 128 6']])"
   ]
  },
  {
   "cell_type": "code",
   "execution_count": 29,
   "metadata": {
    "scrolled": true
   },
   "outputs": [
    {
     "data": {
      "image/png": "[encoded data removed]",
      "text/plain": [
       "<Figure size 432x288 with 1 Axes>"
      ]
     },
     "metadata": {},
     "output_type": "display_data"
    },
    {
     "data": {
      "image/png": "[encoded data removed]",
      "text/plain": [
       "<Figure size 432x288 with 1 Axes>"
      ]
     },
     "metadata": {},
     "output_type": "display_data"
    }
   ],
   "source": [
    "def plot(measurements, label, title = 'Tytul', xlabel = '[x_label]', ylabel = '[y_label]'):\n",
    "    #n_groups = 2\n",
    "    x = [i for i in range(0, len(measurements))]\n",
    "    data = [(key, measurements[key][label]) for key in measurements]\n",
    "    data = sorted(data, key=itemgetter(0))\n",
    "    xticks = [item[0] for item in data]\n",
    "    y = [item[1] for item in data]\n",
    "    #y = [measurements[key]['time'] for key in measurements]\n",
    "    plt.xticks(x, xticks, rotation='vertical')\n",
    "    plt.bar(x, y)\n",
    "    plt.grid(True)\n",
    "    plt.title(title)\n",
    "    plt.xlabel(xlabel)\n",
    "    plt.ylabel(ylabel)\n",
    "    plt.show()\n",
    "    \n",
    "plot(parallel, 'time', 'Wykres czasu obliczen w zaleznosci od instancji', 'Instancja', 'Czas [s]')\n",
    "plot(sums, 'DTLB L1M L2M')"
   ]
  }
 ],
 "metadata": {
  "kernelspec": {
   "display_name": "Python 3",
   "language": "python",
   "name": "python3"
  },
  "language_info": {
   "codemirror_mode": {
    "name": "ipython",
    "version": 3
   },
   "file_extension": ".py",
   "mimetype": "text/x-python",
   "name": "python",
   "nbconvert_exporter": "python",
   "pygments_lexer": "ipython3",
   "version": "3.5.3"
  }
 },
 "nbformat": 4,
 "nbformat_minor": 2
}
